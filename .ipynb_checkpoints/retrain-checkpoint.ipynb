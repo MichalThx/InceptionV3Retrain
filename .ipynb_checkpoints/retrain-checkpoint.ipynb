{
 "cells": [
  {
   "cell_type": "markdown",
   "metadata": {},
   "source": [
    "## Retraining IncetpionV3 model in the Google colab environment\n",
    "\n",
    "The goal is to have new files classified based on the already exsiting model. \\\n",
    "All of the resources should be confied within the Google environment - training and images to be trained from."
   ]
  },
  {
   "cell_type": "code",
   "execution_count": null,
   "metadata": {
    "colab": {
     "base_uri": "https://localhost:8080/",
     "height": 138
    },
    "colab_type": "code",
    "executionInfo": {
     "elapsed": 46076,
     "status": "ok",
     "timestamp": 1550655239643,
     "user": {
      "displayName": "M S",
      "photoUrl": "",
      "userId": "10574308634197334325"
     },
     "user_tz": 0
    },
    "id": "K6WImU78Oxip",
    "outputId": "f3c103e6-dfba-4504-c2ff-f77f8e65a5be"
   },
   "outputs": [],
   "source": [
    "import os,sys\n",
    "import h5py\n",
    "import pandas as pd\n",
    "import numpy as np\n",
    "from keras.preprocessing.image import ImageDataGenerator,array_to_img, img_to_array, load_img\n",
    "from keras.models import Sequential\n",
    "from keras.layers import Dropout, Flatten, Dense\n",
    "from keras import applications\n",
    "import matplotlib.pyplot as plt\n",
    "import seaborn as sns\n",
    "import math\n",
    "%matplotlib inline\n",
    "from tqdm import tqdm\n",
    "from PIL import Image\n",
    "from google.colab import drive\n",
    "\n",
    "drive.mount('/content/gdrive')"
   ]
  },
  {
   "cell_type": "markdown",
   "metadata": {},
   "source": [
    "#### Testing connection to the Google Drive "
   ]
  },
  {
   "cell_type": "code",
   "execution_count": null,
   "metadata": {
    "colab": {
     "base_uri": "https://localhost:8080/",
     "height": 195
    },
    "colab_type": "code",
    "executionInfo": {
     "elapsed": 693,
     "status": "error",
     "timestamp": 1547572371096,
     "user": {
      "displayName": "M S",
      "photoUrl": "",
      "userId": "10574308634197334325"
     },
     "user_tz": 0
    },
    "id": "oOGWEi9cQXGL",
    "outputId": "596659ef-c662-4eab-94d4-0ece60314b35"
   },
   "outputs": [],
   "source": [
    "with open('/content/gdrive/My Drive/Project/foo.txt', 'w') as f:\n",
    "  f.write('Hello Google Drive!')\n",
    "!cat /content/gdrive/My\\ Drive/Project/foo.txt"
   ]
  },
  {
   "cell_type": "code",
   "execution_count": null,
   "metadata": {
    "colab": {},
    "colab_type": "code",
    "id": "ohFpxGgcO6Fx"
   },
   "outputs": [],
   "source": [
    "data_root = \".\"\n",
    "with open('/content/gdrive/My Drive/Project/train.csv', 'r') as f:\n",
    "  train = pd.read_csv(f)\n",
    "with open('/content/gdrive/My Drive/Project/test.csv', 'r') as f:\n",
    "  test = pd.read_csv(f)\n",
    "\n",
    "print(train.label.nunique(),'labels')\n",
    "print(train.label.nunique(),'labels')\n",
    "label_counts=train.label.value_counts()\n",
    "print(label_counts)\n"
   ]
  },
  {
   "cell_type": "code",
   "execution_count": null,
   "metadata": {
    "colab": {},
    "colab_type": "code",
    "id": "WbeQ_FHiSgRE"
   },
   "outputs": [],
   "source": [
    "plt.figure(figsize = (12,6))\n",
    "sns.barplot(label_counts.index, label_counts.values, alpha = 0.9)\n",
    "plt.xticks(rotation = 'vertical')\n",
    "plt.xlabel('Image Labels', fontsize =12)\n",
    "plt.ylabel('Counts', fontsize = 12)\n",
    "plt.show()"
   ]
  },
  {
   "cell_type": "code",
   "execution_count": null,
   "metadata": {
    "colab": {},
    "colab_type": "code",
    "id": "1CCeFkk37hf1"
   },
   "outputs": [],
   "source": [
    "for img in tqdm(train.values):\n",
    "  filename = img[0]\n",
    "  label = img[1]\n",
    "  print(filename, label)\n",
    "  label_dir = ('/content/gdrive/My Drive/Project/train/'+ label)\n",
    "  destination = ('/content/gdrive/My Drive/Project/train/'+label + '/' + filename + '.jpg')\n",
    "  im = Image.open('/content/gdrive/My Drive/Project/train_img/'+filename+'.png')\n",
    "  rgb_im = im.convert('RGB')\n",
    "  if not os.path.exists('/content/gdrive/My Drive/Project/train/'+ label):\n",
    "    os.makedirs(label_dir)\n",
    "  rgb_im.save(destination)\n",
    "  if not os.path.exists('/content/gdrive/My Drive/Project/train_new1/'+ label):\n",
    "    os.makedirs('/content/gdrive/My Drive/Project/train_new1/'+ label)\n",
    "  rgb_im.save('/content/gdrive/My Drive/Project/train_new1/'+ label + '/' + filename + '.jpg')\n",
    "  "
   ]
  },
  {
   "cell_type": "code",
   "execution_count": null,
   "metadata": {
    "colab": {
     "base_uri": "https://localhost:8080/",
     "height": 229
    },
    "colab_type": "code",
    "executionInfo": {
     "elapsed": 606,
     "status": "error",
     "timestamp": 1550655313982,
     "user": {
      "displayName": "M S",
      "photoUrl": "",
      "userId": "10574308634197334325"
     },
     "user_tz": 0
    },
    "id": "wJA6XY8EVDK-",
    "outputId": "50de8f29-db3a-4c9f-ba23-6935cc60a86b"
   },
   "outputs": [],
   "source": [
    "datagen = ImageDataGenerator(\n",
    "        rotation_range=40,\n",
    "        width_shift_range=0.2,\n",
    "        height_shift_range=0.2,\n",
    "        shear_range=0.2,\n",
    "        zoom_range=0.2,\n",
    "        horizontal_flip=True,\n",
    "        fill_mode='nearest')\n",
    "\n",
    "class_size = 600\n",
    "\n",
    "src_train_dir = ('/content/gdrive/My Drive/Project/train/')\n",
    "src_dest_dir = ('/content/gdrive/My Drive/Project/train_new1/')\n",
    "it = 0\n",
    "for count in label_counts.values:\n",
    "  ratio = math.floor(class_size/count)-1\n",
    "  print(count,count*(ratio+1))\n",
    "  src_lab_dir = ('/content/gdrive/My Drive/Project/train/'+label_counts.index[it])\n",
    "  dest_lab_dir = ('/content/gdrive/My Drive/Project/train_new1/'+label_counts.index[it])\n",
    "  if not os.path.exists(dest_lab_dir):\n",
    "    os.makedirs(dest_lab_dir)\n",
    "  for file in os.listdir(src_lab_dir):\n",
    "    img = load_img(os.path.join(src_lab_dir,file))\n",
    "    x = img_to_array(img)\n",
    "    x=x.reshape((1,) + x.shape)\n",
    "    i=0\n",
    "    for batch in datagen.flow(x, batch_size=1,save_to_dir=dest_lab_dir, save_format='jpg'):\n",
    "        i+=1\n",
    "        if i > ratio:\n",
    "            break \n",
    "  it=it+1"
   ]
  },
  {
   "cell_type": "code",
   "execution_count": null,
   "metadata": {
    "colab": {},
    "colab_type": "code",
    "id": "mWIHgHynYanX"
   },
   "outputs": [],
   "source": [
    "for dirpath, dirnames, filenames in os.walk('/content/gdrive/My Drive/Project/train_new/'):\n",
    "    i=0\n",
    "    label=''\n",
    "    for filename in [f for f in filenames if f.endswith(\".jpg\")]:\n",
    "        label=os.path.split(dirpath)[1]\n",
    "        i+=1\n",
    "    print(label,i)"
   ]
  },
  {
   "cell_type": "code",
   "execution_count": null,
   "metadata": {
    "colab": {
     "base_uri": "https://localhost:8080/",
     "height": 28546
    },
    "colab_type": "code",
    "executionInfo": {
     "elapsed": 501371,
     "status": "ok",
     "timestamp": 1550657922203,
     "user": {
      "displayName": "M S",
      "photoUrl": "",
      "userId": "10574308634197334325"
     },
     "user_tz": 0
    },
    "id": "9LVHsrV_eSMC",
    "outputId": "b5d2190d-90e7-42ef-e02c-25e798d4829b"
   },
   "outputs": [],
   "source": [
    "os.chdir('/content/gdrive/My Drive/Project')\n",
    "!python retrain.py --image_dir train --output_graph model-new-8.pb --output_labels labels-new-8.txt --how_many_training_steps 5000 --learning_rate 0.01 "
   ]
  },
  {
   "cell_type": "code",
   "execution_count": null,
   "metadata": {
    "colab": {},
    "colab_type": "code",
    "id": "yBDxMUQNY_Qc"
   },
   "outputs": [],
   "source": [
    "os.chdir('/tmp')\n",
    "!rm -r imagenet"
   ]
  },
  {
   "cell_type": "code",
   "execution_count": null,
   "metadata": {
    "colab": {},
    "colab_type": "code",
    "id": "fMiBrgdPRShV"
   },
   "outputs": [],
   "source": [
    "!python retrain.py -h"
   ]
  },
  {
   "cell_type": "code",
   "execution_count": null,
   "metadata": {
    "colab": {},
    "colab_type": "code",
    "id": "M3RtCOFPTQ4O"
   },
   "outputs": [],
   "source": [
    "os.chdir('/content/gdrive/My Drive/Project')"
   ]
  },
  {
   "cell_type": "code",
   "execution_count": null,
   "metadata": {
    "colab": {
     "base_uri": "https://localhost:8080/",
     "height": 322
    },
    "colab_type": "code",
    "executionInfo": {
     "elapsed": 6986,
     "status": "ok",
     "timestamp": 1550657980225,
     "user": {
      "displayName": "M S",
      "photoUrl": "",
      "userId": "10574308634197334325"
     },
     "user_tz": 0
    },
    "id": "BG2beYvDCZge",
    "outputId": "7b8c1d18-94c6-42ac-9222-c7d031906202"
   },
   "outputs": [],
   "source": [
    "IMAGE_SIZE=224\n",
    "!tflite_convert --graph_def_file=model-new-8.pb --output_file=model-new-8-v1.lite --input_format=TENSORFLOW_GRAPHDEF --output_format=TFLITE --input_shape=1,299,299,3 --input_array=Mul --output_array=final_result --inference_type=FLOAT --input_data_type=FLOAT --post_training_quantize"
   ]
  },
  {
   "cell_type": "code",
   "execution_count": null,
   "metadata": {
    "colab": {
     "base_uri": "https://localhost:8080/",
     "height": 1072
    },
    "colab_type": "code",
    "executionInfo": {
     "elapsed": 332,
     "status": "error",
     "timestamp": 1549985767619,
     "user": {
      "displayName": "M S",
      "photoUrl": "",
      "userId": "10574308634197334325"
     },
     "user_tz": 0
    },
    "id": "tj34gSExUg4_",
    "outputId": "67292101-623d-4259-9c99-da84d5f24de8"
   },
   "outputs": [],
   "source": [
    "import tensorflow as tf\n",
    "converter = tf.lite.TFLiteConverter.from_saved_model('model-new-7.pb')\n",
    "converter.post_training_quantize = True\n",
    "tflite_quantized_model = converter.convert()\n",
    "open(\"quantized_model-new-7.tflite\", \"wb\").write(tflite_quantized_model)"
   ]
  },
  {
   "cell_type": "code",
   "execution_count": null,
   "metadata": {
    "colab": {},
    "colab_type": "code",
    "id": "RL79FOH8VD2N"
   },
   "outputs": [],
   "source": [
    "IMAGE_SIZE=224\n",
    "!tflite_convert --graph_def_file=model.pb --output_file=model.lite --input_format=TENSORFLOW_GRAPHDEF --output_format=TFLITE --input_shape=1,${IMAGE_SIZE},${IMAGE_SIZE},3 --input_array=input --output_array=final_result --inference_type=FLOAT --input_data_type=FLOAT"
   ]
  },
  {
   "cell_type": "code",
   "execution_count": null,
   "metadata": {
    "colab": {},
    "colab_type": "code",
    "id": "kFaFMEJ7dUWk"
   },
   "outputs": [],
   "source": [
    "from __future__ import absolute_import\n",
    "from __future__ import division\n",
    "from __future__ import print_function\n",
    "import pandas as pd\n",
    "import argparse\n",
    "import sys,os\n",
    "import tensorflow as tf\n",
    "from PIL import Image\n",
    "from tqdm import tqdm"
   ]
  },
  {
   "cell_type": "code",
   "execution_count": null,
   "metadata": {
    "colab": {
     "base_uri": "https://localhost:8080/",
     "height": 34
    },
    "colab_type": "code",
    "executionInfo": {
     "elapsed": 324,
     "status": "ok",
     "timestamp": 1547480012328,
     "user": {
      "displayName": "M S",
      "photoUrl": "",
      "userId": "10574308634197334325"
     },
     "user_tz": 0
    },
    "id": "U_TPLC_VdbiU",
    "outputId": "abde15e9-38a7-4322-d6ba-09632e679df4"
   },
   "outputs": [],
   "source": [
    "t=tqdm(pd.read_csv('test.csv').values)\n",
    "test=[]\n",
    "i=0\n",
    "for tt in t:\n",
    "    test.append(tt[0])\n",
    "    i+=1"
   ]
  },
  {
   "cell_type": "code",
   "execution_count": null,
   "metadata": {
    "colab": {},
    "colab_type": "code",
    "id": "TF-4cWvrdkb2"
   },
   "outputs": [],
   "source": [
    "def load_image(filename):\n",
    "    #Read in the image_data to be classified.\"\"\"\n",
    "    return tf.gfile.FastGFile(filename, 'rb').read()\n",
    "\n",
    "def load_labels(filename):\n",
    "    #Read in labels, one label per line.\"\"\"\n",
    "    return [line.rstrip() for line in tf.gfile.GFile(filename)]\n",
    "\n",
    "def load_graph(filename):\n",
    "    #Unpersists graph from file as default graph.\"\"\"\n",
    "    with tf.gfile.FastGFile(filename, 'rb') as f:\n",
    "        graph_def = tf.GraphDef()\n",
    "        graph_def.ParseFromString(f.read())\n",
    "        tf.import_graph_def(graph_def, name='')"
   ]
  },
  {
   "cell_type": "code",
   "execution_count": null,
   "metadata": {
    "colab": {},
    "colab_type": "code",
    "id": "X59UF0ATd1W3"
   },
   "outputs": [],
   "source": [
    "def run_graph(src, dest, labels, input_layer_name, output_layer_name, num_top_predictions):\n",
    "    with tf.Session() as sess:\n",
    "        # Feed the image_data as input to the graph.\n",
    "        # predictions  will contain a two-dimensional array, where one\n",
    "        # dimension represents the input image count, and the other has\n",
    "        # predictions per class\n",
    "        i=0\n",
    "        with open('submit.csv','w') as outfile:\n",
    "          for f in os.listdir(src):\n",
    "              im=Image.open(os.path.join(src,f))\n",
    "              img=im.convert('RGB')\n",
    "              img.save(os.path.join(dest,test[i]+'.jpg'))\n",
    "              image_data=load_image(os.path.join(dest,test[i]+'.jpg'))\n",
    "              softmax_tensor=sess.graph.get_tensor_by_name(output_layer_name)\n",
    "              predictions,=sess.run(softmax_tensor, {input_layer_name: image_data})\n",
    "\n",
    "              # Sort to show labels in order of confidence             \n",
    "              top_k = predictions.argsort()[-num_top_predictions:][::-1]\n",
    "              for node_id in top_k:\n",
    "                  predicted_label = labels[node_id]\n",
    "                  score = predictions[node_id]\n",
    "                  print(test[i]+',',predicted_label+\",\"+str(score))\n",
    "                  outfile.write(test[i]+','+predicted_label+\",\"+str(score)+'\\n')\n",
    "              i+=1"
   ]
  },
  {
   "cell_type": "code",
   "execution_count": null,
   "metadata": {
    "colab": {},
    "colab_type": "code",
    "id": "djR_-qQmd6FU"
   },
   "outputs": [],
   "source": [
    "src=os.path.join('test_img')\n",
    "dest=os.path.join('test_img2')\n",
    "labels='labels5.txt'\n",
    "graph='model5.pb'\n",
    "input_layer='DecodeJpeg/contents:0'\n",
    "output_layer='final_result:0'\n",
    "num_top_predictions=1\n",
    "labels = load_labels(labels)\n",
    "load_graph(graph)\n",
    "run_graph(src,dest,labels,input_layer,output_layer,num_top_predictions)"
   ]
  },
  {
   "cell_type": "markdown",
   "metadata": {},
   "source": [
    "#### Converts the \"xxxxxxx\" model into the mobile version of it "
   ]
  },
  {
   "cell_type": "code",
   "execution_count": null,
   "metadata": {
    "colab": {},
    "colab_type": "code",
    "id": "umBaFIL-WCda"
   },
   "outputs": [],
   "source": [
    "!tflite_convert \\\n",
    "    --output_file=xxxxxxx.tflite \\\n",
    "    --graph_def_file=model5.pb \\\n",
    "    --input_arrays=Mul \\\n",
    "    --output_arrays=final_result"
   ]
  },
  {
   "cell_type": "code",
   "execution_count": null,
   "metadata": {
    "colab": {},
    "colab_type": "code",
    "id": "JHtG33Gjf4n_"
   },
   "outputs": [],
   "source": [
    "!lscp"
   ]
  },
  {
   "cell_type": "code",
   "execution_count": null,
   "metadata": {
    "colab": {},
    "colab_type": "code",
    "id": "bfNQcBu_hAp2"
   },
   "outputs": [],
   "source": []
  }
 ],
 "metadata": {
  "accelerator": "GPU",
  "colab": {
   "collapsed_sections": [],
   "name": "retrain.ipynb",
   "provenance": [],
   "version": "0.3.2"
  },
  "kernelspec": {
   "display_name": "Python 3",
   "language": "python",
   "name": "python3"
  },
  "language_info": {
   "codemirror_mode": {
    "name": "ipython",
    "version": 3
   },
   "file_extension": ".py",
   "mimetype": "text/x-python",
   "name": "python",
   "nbconvert_exporter": "python",
   "pygments_lexer": "ipython3",
   "version": "3.7.10"
  }
 },
 "nbformat": 4,
 "nbformat_minor": 1
}
